{
 "cells": [
  {
   "cell_type": "code",
   "execution_count": 1,
   "metadata": {
    "collapsed": false
   },
   "outputs": [],
   "source": [
    "import csv\n",
    "import datetime\n",
    "f = open(\"guns.csv\")\n",
    "data = list(csv.reader(f))\n"
   ]
  },
  {
   "cell_type": "code",
   "execution_count": 2,
   "metadata": {
    "collapsed": false
   },
   "outputs": [
    {
     "name": "stdout",
     "output_type": "stream",
     "text": [
      "['', 'year', 'month', 'intent', 'police', 'sex', 'age', 'race', 'hispanic', 'place', 'education']\n",
      "[['1', '2012', '01', 'Suicide', '0', 'M', '34', 'Asian/Pacific Islander', '100', 'Home', '4'], ['2', '2012', '01', 'Suicide', '0', 'F', '21', 'White', '100', 'Street', '3'], ['3', '2012', '01', 'Suicide', '0', 'M', '60', 'White', '100', 'Other specified', '4'], ['4', '2012', '02', 'Suicide', '0', 'M', '64', 'White', '100', 'Home', '4'], ['5', '2012', '02', 'Suicide', '0', 'M', '31', 'White', '100', 'Other specified', '2']]\n"
     ]
    }
   ],
   "source": [
    "headers = data[0]\n",
    "data = data[1:]\n",
    "print(headers)\n",
    "print(data[0:5])"
   ]
  },
  {
   "cell_type": "code",
   "execution_count": 3,
   "metadata": {
    "collapsed": false
   },
   "outputs": [
    {
     "name": "stdout",
     "output_type": "stream",
     "text": [
      "{'2012': 33563, '2014': 33599, '2013': 33636}\n"
     ]
    }
   ],
   "source": [
    "years = [y[1] for y in data]\n",
    "year_count={}\n",
    "for y in years:\n",
    "    if y in year_count:\n",
    "        year_count[y] = year_count[y] + 1\n",
    "    else:\n",
    "        year_count[y] = 1\n",
    "print(year_count)"
   ]
  },
  {
   "cell_type": "code",
   "execution_count": 4,
   "metadata": {
    "collapsed": false
   },
   "outputs": [
    {
     "name": "stdout",
     "output_type": "stream",
     "text": [
      "{datetime.datetime(2013, 6, 1, 0, 0): 2920, datetime.datetime(2012, 2, 1, 0, 0): 2357, datetime.datetime(2013, 8, 1, 0, 0): 2859, datetime.datetime(2013, 2, 1, 0, 0): 2375, datetime.datetime(2014, 12, 1, 0, 0): 2857, datetime.datetime(2014, 1, 1, 0, 0): 2651, datetime.datetime(2014, 2, 1, 0, 0): 2361, datetime.datetime(2012, 10, 1, 0, 0): 2733, datetime.datetime(2014, 4, 1, 0, 0): 2862, datetime.datetime(2014, 10, 1, 0, 0): 2865, datetime.datetime(2012, 12, 1, 0, 0): 2791, datetime.datetime(2013, 9, 1, 0, 0): 2742, datetime.datetime(2012, 11, 1, 0, 0): 2729, datetime.datetime(2014, 3, 1, 0, 0): 2684, datetime.datetime(2012, 4, 1, 0, 0): 2795, datetime.datetime(2012, 7, 1, 0, 0): 3026, datetime.datetime(2013, 3, 1, 0, 0): 2862, datetime.datetime(2012, 1, 1, 0, 0): 2758, datetime.datetime(2014, 9, 1, 0, 0): 2914, datetime.datetime(2014, 6, 1, 0, 0): 2931, datetime.datetime(2013, 7, 1, 0, 0): 3079, datetime.datetime(2012, 5, 1, 0, 0): 2999, datetime.datetime(2014, 8, 1, 0, 0): 2970, datetime.datetime(2013, 11, 1, 0, 0): 2758, datetime.datetime(2013, 4, 1, 0, 0): 2798, datetime.datetime(2012, 8, 1, 0, 0): 2954, datetime.datetime(2014, 7, 1, 0, 0): 2884, datetime.datetime(2014, 5, 1, 0, 0): 2864, datetime.datetime(2013, 10, 1, 0, 0): 2808, datetime.datetime(2012, 9, 1, 0, 0): 2852, datetime.datetime(2014, 11, 1, 0, 0): 2756, datetime.datetime(2012, 3, 1, 0, 0): 2743, datetime.datetime(2013, 12, 1, 0, 0): 2765, datetime.datetime(2012, 6, 1, 0, 0): 2826, datetime.datetime(2013, 1, 1, 0, 0): 2864, datetime.datetime(2013, 5, 1, 0, 0): 2806}\n"
     ]
    }
   ],
   "source": [
    "dates = [datetime.datetime(year=int(y[1]),month=int(y[2]),day=1) for y in data]\n",
    "date_counts = {}\n",
    "for d in dates:\n",
    "    if d in date_counts:\n",
    "        date_counts[d] = date_counts[d] + 1\n",
    "    else:\n",
    "        date_counts[d] = 1\n",
    "print(date_counts)"
   ]
  },
  {
   "cell_type": "code",
   "execution_count": 5,
   "metadata": {
    "collapsed": false
   },
   "outputs": [
    {
     "name": "stdout",
     "output_type": "stream",
     "text": [
      "{'M': 86349, 'F': 14449}\n",
      "{'Hispanic': 9022, 'Black': 23296, 'Native American/Native Alaskan': 917, 'Asian/Pacific Islander': 1326, 'White': 66237}\n"
     ]
    }
   ],
   "source": [
    "sex_counts = {}\n",
    "race_counts = {}\n",
    "for d in data:\n",
    "    if d[5] in sex_counts:\n",
    "        sex_counts[d[5]] = sex_counts[d[5]] + 1\n",
    "    else:\n",
    "        sex_counts[d[5]] = 1\n",
    "    if d[7] in race_counts:\n",
    "        race_counts[d[7]] = race_counts[d[7]] + 1\n",
    "    else:\n",
    "        race_counts[d[7]] = 1\n",
    "print(sex_counts)\n",
    "print(race_counts)"
   ]
  },
  {
   "cell_type": "markdown",
   "metadata": {
    "collapsed": true
   },
   "source": [
    "# Predictions on US gun death rate\n",
    "From the above analysis it is clear that GUN death rate is higher in particular race. To predict this reason education and their demographic region has to be explored"
   ]
  },
  {
   "cell_type": "code",
   "execution_count": 6,
   "metadata": {
    "collapsed": false
   },
   "outputs": [
    {
     "data": {
      "text/plain": [
       "[['Id',\n",
       "  'Year',\n",
       "  'Id',\n",
       "  'Sex',\n",
       "  'Id',\n",
       "  'Hispanic Origin',\n",
       "  'Id',\n",
       "  'Id2',\n",
       "  'Geography',\n",
       "  'Total',\n",
       "  'Race Alone - White',\n",
       "  'Race Alone - Hispanic',\n",
       "  'Race Alone - Black or African American',\n",
       "  'Race Alone - American Indian and Alaska Native',\n",
       "  'Race Alone - Asian',\n",
       "  'Race Alone - Native Hawaiian and Other Pacific Islander',\n",
       "  'Two or More Races'],\n",
       " ['cen42010',\n",
       "  'April 1, 2010 Census',\n",
       "  'totsex',\n",
       "  'Both Sexes',\n",
       "  'tothisp',\n",
       "  'Total',\n",
       "  '0100000US',\n",
       "  '',\n",
       "  'United States',\n",
       "  '308745538',\n",
       "  '197318956',\n",
       "  '44618105',\n",
       "  '40250635',\n",
       "  '3739506',\n",
       "  '15159516',\n",
       "  '674625',\n",
       "  '6984195']]"
      ]
     },
     "execution_count": 6,
     "metadata": {},
     "output_type": "execute_result"
    }
   ],
   "source": [
    "import csv\n",
    "pointer = open(\"census.csv\")\n",
    "census = list(csv.reader(pointer))\n",
    "census"
   ]
  },
  {
   "cell_type": "code",
   "execution_count": 7,
   "metadata": {
    "collapsed": false
   },
   "outputs": [
    {
     "data": {
      "text/plain": [
       "{'Asian/Pacific Islander': 15834141,\n",
       " 'Black': 40250635,\n",
       " 'Hispanic': 44618105,\n",
       " 'Native American/Native Alaskan': 3739506,\n",
       " 'White': 197318956}"
      ]
     },
     "execution_count": 7,
     "metadata": {},
     "output_type": "execute_result"
    }
   ],
   "source": [
    "mapping = {}\n",
    "mapping['White'] = int(census[1][10])\n",
    "mapping['Hispanic']=int(census[1][11])\n",
    "mapping['Black']=int(census[1][12])\n",
    "mapping['Native American/Native Alaskan']=int(census[1][13])\n",
    "mapping['Asian/Pacific Islander']=int(census[1][14]) + int(census[1][15])\n",
    "mapping"
   ]
  },
  {
   "cell_type": "code",
   "execution_count": 8,
   "metadata": {
    "collapsed": false
   },
   "outputs": [
    {
     "name": "stdout",
     "output_type": "stream",
     "text": [
      "{'Hispanic': 20.220491210910907, 'White': 33.56849303419181, 'Native American/Native Alaskan': 24.521955573811088, 'Black': 57.8773477735196, 'Asian/Pacific Islander': 8.374309664161762}\n"
     ]
    }
   ],
   "source": [
    "race_per_hundredk = {}\n",
    "for r in race_counts.keys():\n",
    "    if r in mapping:\n",
    "        race_per_hundredk[r] = (race_counts[r]/mapping[r])*100000\n",
    "print(race_per_hundredk)\n",
    "        "
   ]
  },
  {
   "cell_type": "code",
   "execution_count": 9,
   "metadata": {
    "collapsed": false
   },
   "outputs": [
    {
     "data": {
      "text/plain": [
       "{'Asian/Pacific Islander': 2,\n",
       " 'Black': 20,\n",
       " 'Hispanic': 2,\n",
       " 'Native American/Native Alaskan': 1,\n",
       " 'White': 2}"
      ]
     },
     "execution_count": 9,
     "metadata": {},
     "output_type": "execute_result"
    }
   ],
   "source": [
    "intents = [d[3] for d in data]\n",
    "races = [d[7] for d in data]\n",
    "homicide_race_per_hundredk = {}\n",
    "for i,r in enumerate(races):\n",
    "    if intents[i] == 'Homicide':\n",
    "        homicide_race_per_hundredk[r] += 1\n",
    "    else:\n",
    "        homicide_race_per_hundredk[r] = 1\n",
    "homicide_race_per_hundredk"
   ]
  },
  {
   "cell_type": "code",
   "execution_count": 10,
   "metadata": {
    "collapsed": false
   },
   "outputs": [
    {
     "name": "stdout",
     "output_type": "stream",
     "text": [
      "{'Hispanic': 0.004482485305012393, 'White': 0.0010135873615710798, 'Native American/Native Alaskan': 0.026741500080491917, 'Black': 0.04968865708578262, 'Asian/Pacific Islander': 0.01263093463674474}\n"
     ]
    }
   ],
   "source": [
    "homicide = {}\n",
    "for h in homicide_race_per_hundredk.keys():\n",
    "    if h in mapping:\n",
    "        homicide[h] = (homicide_race_per_hundredk[h]/mapping[h])*100000\n",
    "print(homicide)\n",
    "        "
   ]
  },
  {
   "cell_type": "markdown",
   "metadata": {},
   "source": [
    "# Further progress on  data\n",
    "Further analysis can be continued based on the education and demo"
   ]
  },
  {
   "cell_type": "code",
   "execution_count": 12,
   "metadata": {
    "collapsed": false
   },
   "outputs": [
    {
     "name": "stdout",
     "output_type": "stream",
     "text": [
      "[['1', '2012', '01', 'Suicide', '0', 'M', '34', 'Asian/Pacific Islander', '100', 'Home', 4], ['2', '2012', '01', 'Suicide', '0', 'F', '21', 'White', '100', 'Street', 3], ['3', '2012', '01', 'Suicide', '0', 'M', '60', 'White', '100', 'Other specified', 4], ['4', '2012', '02', 'Suicide', '0', 'M', '64', 'White', '100', 'Home', 4], ['5', '2012', '02', 'Suicide', '0', 'M', '31', 'White', '100', 'Other specified', 2], ['6', '2012', '02', 'Suicide', '0', 'M', '17', 'Native American/Native Alaskan', '100', 'Home', 1], ['7', '2012', '02', 'Undetermined', '0', 'M', '48', 'White', '100', 'Home', 2], ['8', '2012', '03', 'Suicide', '0', 'M', '41', 'Native American/Native Alaskan', '100', 'Home', 2], ['9', '2012', '02', 'Accidental', '0', 'M', '50', 'White', '100', 'Other specified', 3], ['10', '2012', '02', 'Suicide', '0', 'M', 'NA', 'Black', '998', 'Home', 5]]\n"
     ]
    }
   ],
   "source": [
    "def refine_education():\n",
    "    for row in data:\n",
    "        try:\n",
    "            row[10] = int(row[10])\n",
    "        except Exception as excep:\n",
    "            row[10] = -1\n",
    "refine_education()\n",
    "print(data[0:10])"
   ]
  },
  {
   "cell_type": "code",
   "execution_count": 46,
   "metadata": {
    "collapsed": false
   },
   "outputs": [
    {
     "name": "stdout",
     "output_type": "stream",
     "text": [
      "10\n",
      "{'Home': 258, 'Residential institution': 1, 'Trade/service area': 19, 'Farm': 1, 'Other unspecified': 23, 'School/instiution': 5, 'Street': 24, 'Other specified': 64, 'NA': 4, 'Sports': 1}\n"
     ]
    },
    {
     "data": {
      "image/png": "[encoded data removed]",
      "text/plain": [
       "<matplotlib.figure.Figure at 0x7f36fa13dc18>"
      ]
     },
     "metadata": {},
     "output_type": "display_data"
    }
   ],
   "source": [
    "import matplotlib.pyplot as plt\n",
    "import numpy as np\n",
    "def calculate_literacy_rate(edu_level,race):\n",
    "    education = {}\n",
    "    for row in data:\n",
    "        if row[10] == edu_level and row[7]==race:\n",
    "            if row[9] in education:\n",
    "                education[row[9]] = education[row[9]] + 1\n",
    "            else:\n",
    "                education[row[9]] = 1\n",
    "    print(len(education))\n",
    "    return education\n",
    "ret_data = calculate_literacy_rate(4,'Hispanic')\n",
    "x_axis = list(np.random.randint(1,len(ret_data),len(ret_data)))\n",
    "y_axis = list(ret_data.values())\n",
    "print(ret_data)\n",
    "plt.scatter(x_axis,y_axis)\n",
    "plt.show()"
   ]
  },
  {
   "cell_type": "markdown",
   "metadata": {},
   "source": [
    "# cal_death_rate is used to calculate the no of death rate based on year,intent,race"
   ]
  },
  {
   "cell_type": "code",
   "execution_count": 59,
   "metadata": {
    "collapsed": false
   },
   "outputs": [],
   "source": [
    "def cal_death_rate(intent,race,year):\n",
    "    formatted_data = []\n",
    "    for row in data:\n",
    "        if row[1] == year and row[3]== intent and row[7] == race:\n",
    "            formatted_data.append(row)\n",
    "    return formatted_data"
   ]
  },
  {
   "cell_type": "code",
   "execution_count": 36,
   "metadata": {
    "collapsed": false
   },
   "outputs": [],
   "source": [
    "pd.DataFrame?"
   ]
  },
  {
   "cell_type": "code",
   "execution_count": 62,
   "metadata": {
    "collapsed": false
   },
   "outputs": [
    {
     "data": {
      "text/plain": [
       "(1128, 2.8024402596381397)"
      ]
     },
     "execution_count": 62,
     "metadata": {},
     "output_type": "execute_result"
    }
   ],
   "source": [
    "import pandas as pd\n",
    "my_data = cal_death_rate('Suicide','Black','2012')\n",
    "my_series = pd.DataFrame(my_data)\n",
    "homi_white_100k = (len(my_data)/mapping['Black'])*100000\n",
    "len(my_data),homi_white_100k"
   ]
  },
  {
   "cell_type": "markdown",
   "metadata": {},
   "source": [
    "# on the overall analysis it is clear that black race has encountered more death rate from 2012 to 2014"
   ]
  }
 ],
 "metadata": {
  "anaconda-cloud": {},
  "kernelspec": {
   "display_name": "Python [default]",
   "language": "python",
   "name": "python3"
  },
  "language_info": {
   "codemirror_mode": {
    "name": "ipython",
    "version": 3
   },
   "file_extension": ".py",
   "mimetype": "text/x-python",
   "name": "python",
   "nbconvert_exporter": "python",
   "pygments_lexer": "ipython3",
   "version": "3.5.2"
  }
 },
 "nbformat": 4,
 "nbformat_minor": 0
}
